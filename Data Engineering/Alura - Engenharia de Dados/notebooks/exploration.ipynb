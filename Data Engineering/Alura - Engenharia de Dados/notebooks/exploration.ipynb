{
 "cells": [
  {
   "cell_type": "markdown",
   "metadata": {},
   "source": [
    "# Exploration\n",
    "\n",
    "#### Objetivo do Projeto:\n",
    "\n",
    "Combinar dados de duas empresas que fizeram uma fusão, portanto eles precisam dos dados da Empresa A e da Empresa B juntos em um só arquivo para ser disponibilizado para a equipe de Business Intelligence (BI).\n",
    "\n",
    "#### Etapas:\n",
    "- [Extração de Dados](#extração-de-dados)\n",
    "- Tranformação de Dados"
   ]
  },
  {
   "cell_type": "markdown",
   "metadata": {},
   "source": [
    "### Extração de Dados\n",
    " \n",
    "**Objetivo:** Obter dados de fontes diferentes e conseguir carregar eles no notebook."
   ]
  },
  {
   "cell_type": "markdown",
   "metadata": {},
   "source": [
    "#### Extraindo dados da Empresa A (.json)\n",
    "\n",
    "Para trabalhar com dados .json ([JavaScript Object Notation](https://www.json.org/json-en.html)), é muito comúm utilizar a biblioteca nativa do Python chamada [json](https://docs.python.org/pt-br/3/library/json.html). Essa biblioteca permite fazer manipulações de diversos tipos em arquivos .json e até mesmo converter arquivos de outros tipos em .json, é uma das bibliotecas mais útilizadas em Python, devido ser comúm a maioria dos dados de APIs e Sistemas serem transitados em .json."
   ]
  },
  {
   "cell_type": "code",
   "execution_count": 57,
   "metadata": {},
   "outputs": [
    {
     "name": "stdout",
     "output_type": "stream",
     "text": [
      "<class 'list'>\n"
     ]
    },
    {
     "data": {
      "text/plain": [
       "{'Nome do Produto': 'Lápis de sobrancelha',\n",
       " 'Categoria do Produto': 'Eletrodomésticos',\n",
       " 'Preço do Produto (R$)': 85.47,\n",
       " 'Quantidade em Estoque': 78,\n",
       " 'Filial': 'Filial 8'}"
      ]
     },
     "execution_count": 57,
     "metadata": {},
     "output_type": "execute_result"
    }
   ],
   "source": [
    "#importando lib\n",
    "import json\n",
    "\n",
    "#Caminho do arquivo .json empresa A\n",
    "path_json = '../data_raw/dados_empresaA.json'\n",
    "\n",
    "#Abrindo .json e atribuindo a variável dados_json\n",
    "with open(path_json, 'r') as file:\n",
    "    dados_json = json.load(file)\n",
    "\n",
    "#Identificando tipo dos dados\n",
    "print(type(dados_json))\n",
    "\n",
    "#Imprimindo o segundo item do .json\n",
    "dados_json[1]\n"
   ]
  },
  {
   "cell_type": "markdown",
   "metadata": {},
   "source": [
    "#### Extraindo dados da Empresa B (.csv)\n",
    "\n",
    "Para trabalhar com dados em formato .csv ([Comma Separated Values](https://pt.wikipedia.org/wiki/Comma-separated_values)), é muito utilizada a biblioteca [csv](https://docs.python.org/3/library/csv.html), que por sua vez possui diversos metodos de manipulação de dados de formato .csv. Esse tipo de dado é muito comúm em tarefas administrativas onde se usa com frequência Excel e SQL.\n",
    "\n",
    ">Dentro do contexto do projeto, os dados da Empresa B (.csv), precisam ser um pouco mais trabalhados para que o retorno seja uma uma Lista de Dicionários Python."
   ]
  },
  {
   "cell_type": "code",
   "execution_count": 62,
   "metadata": {},
   "outputs": [
    {
     "data": {
      "text/plain": [
       "{'Nome do Item': 'Batom matte',\n",
       " 'Classificação do Produto': 'Eletrônicos',\n",
       " 'Valor em Reais (R$)': '74.15',\n",
       " 'Quantidade em Estoque': '48',\n",
       " 'Nome da Loja': 'Filial 9',\n",
       " 'Data da Venda': '2023-06-03 18:58:06.794203'}"
      ]
     },
     "execution_count": 62,
     "metadata": {},
     "output_type": "execute_result"
    }
   ],
   "source": [
    "#importando lib csv\n",
    "import csv\n",
    "\n",
    "#Caminho do arquivo .csv empresa B\n",
    "path_csv = '../data_raw/dados_empresaB.csv'\n",
    "\n",
    "#Criando lista vazia\n",
    "dados_csv = []\n",
    "\n",
    "#Abrindo .csv\n",
    "with open(path_csv, 'r') as file:\n",
    "    \n",
    "    #Atribuindo dados na variavel spamreader\n",
    "    spamreader = csv.DictReader(file, delimiter=',')\n",
    "    \n",
    "    #Para cada linha do spamreader \n",
    "    for row in spamreader:\n",
    "        #Adiciona linha (dict) na lista dados_csv\n",
    "        dados_csv.append(row)\n",
    "\n",
    "#Identificando tipo dos dados\n",
    "type(dados_csv)\n",
    "      \n",
    "#Imprimindo o segundo item do .json\n",
    "dados_csv[1]"
   ]
  }
 ],
 "metadata": {
  "kernelspec": {
   "display_name": ".venv",
   "language": "python",
   "name": "python3"
  },
  "language_info": {
   "codemirror_mode": {
    "name": "ipython",
    "version": 3
   },
   "file_extension": ".py",
   "mimetype": "text/x-python",
   "name": "python",
   "nbconvert_exporter": "python",
   "pygments_lexer": "ipython3",
   "version": "3.10.12"
  }
 },
 "nbformat": 4,
 "nbformat_minor": 2
}
