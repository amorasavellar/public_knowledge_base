{
 "cells": [
  {
   "cell_type": "markdown",
   "metadata": {},
   "source": [
    "# Exploration\n",
    "\n",
    "#### Objetivo do Projeto:\n",
    "\n",
    "Combinar dados de duas empresas que fizeram uma fusão, portanto eles precisam dos dados da Empresa A e da Empresa B juntos em um só arquivo para ser disponibilizado para a equipe de Business Intelligence (BI).\n",
    "\n",
    "#### Etapas:\n",
    "- [Extração de Dados](#extração-de-dados)\n",
    "- Tranformação de Dados"
   ]
  },
  {
   "cell_type": "markdown",
   "metadata": {},
   "source": [
    "### Extração de Dados\n",
    " \n",
    "**Objetivo:** Obter dados de fontes diferentes e conseguir carregar eles no notebook."
   ]
  },
  {
   "cell_type": "markdown",
   "metadata": {},
   "source": [
    "#### Extraindo dados da Empresa A (.json)\n",
    "\n",
    "Para trabalhar com dados .json ([JavaScript Object Notation](https://www.json.org/json-en.html)), é muito comúm utilizar a biblioteca nativa do Python chamada [json](https://docs.python.org/pt-br/3/library/json.html). Essa biblioteca permite fazer manipulações de diversos tipos em arquivos .json e até mesmo converter arquivos de outros tipos em .json, é uma das bibliotecas mais útilizadas em Python, devido ser comúm a maioria dos dados de APIs e Sistemas serem transitados em .json."
   ]
  },
  {
   "cell_type": "code",
   "execution_count": 20,
   "metadata": {},
   "outputs": [
    {
     "name": "stdout",
     "output_type": "stream",
     "text": [
      "<class 'list'>\n"
     ]
    },
    {
     "data": {
      "text/plain": [
       "{'Nome do Produto': 'Lápis de sobrancelha',\n",
       " 'Categoria do Produto': 'Eletrodomésticos',\n",
       " 'Preço do Produto (R$)': 85.47,\n",
       " 'Quantidade em Estoque': 78,\n",
       " 'Filial': 'Filial 8'}"
      ]
     },
     "execution_count": 20,
     "metadata": {},
     "output_type": "execute_result"
    }
   ],
   "source": [
    "#importando lib\n",
    "import json\n",
    "\n",
    "#Caminho do arquivo .json empresa A\n",
    "path_json = '../data_raw/dados_empresaA.json'\n",
    "\n",
    "#Abrindo .json e atribuindo a variável dados_json\n",
    "with open(path_json, 'r') as file:\n",
    "    dados_json = json.load(file)\n",
    "\n",
    "#Identificando tipo dos dados\n",
    "print(type(dados_json))\n",
    "\n",
    "#Imprimindo o segundo item do .json\n",
    "dados_json[1]\n"
   ]
  },
  {
   "cell_type": "markdown",
   "metadata": {},
   "source": [
    "#### Extraindo dados da Empresa B (.csv)\n",
    "\n",
    "Para trabalhar com dados em formato .csv ([Comma Separated Values](https://pt.wikipedia.org/wiki/Comma-separated_values)), é muito utilizada a biblioteca [csv](https://docs.python.org/3/library/csv.html), que por sua vez possui diversos metodos de manipulação de dados de formato .csv. Esse tipo de dado é muito comúm em tarefas administrativas onde se usa com frequência Excel e SQL.\n",
    "\n",
    ">Dentro do contexto do projeto, os dados da Empresa B (.csv), precisam ser um pouco mais trabalhados para que o retorno seja uma uma Lista de Dicionários Python."
   ]
  },
  {
   "cell_type": "code",
   "execution_count": 21,
   "metadata": {},
   "outputs": [
    {
     "data": {
      "text/plain": [
       "{'Nome do Item': 'Batom matte',\n",
       " 'Classificação do Produto': 'Eletrônicos',\n",
       " 'Valor em Reais (R$)': '74.15',\n",
       " 'Quantidade em Estoque': '48',\n",
       " 'Nome da Loja': 'Filial 9',\n",
       " 'Data da Venda': '2023-06-03 18:58:06.794203'}"
      ]
     },
     "execution_count": 21,
     "metadata": {},
     "output_type": "execute_result"
    }
   ],
   "source": [
    "#importando lib csv\n",
    "import csv\n",
    "\n",
    "#Caminho do arquivo .csv empresa B\n",
    "path_csv = '../data_raw/dados_empresaB.csv'\n",
    "\n",
    "#Criando lista vazia\n",
    "dados_csv = []\n",
    "\n",
    "#Abrindo .csv\n",
    "with open(path_csv, 'r') as file:\n",
    "    \n",
    "    #Atribuindo dados na variavel spamreader\n",
    "    spamreader = csv.DictReader(file, delimiter=',')\n",
    "    \n",
    "    #Para cada linha do spamreader \n",
    "    for row in spamreader:\n",
    "        #Adiciona linha (dict) na lista dados_csv\n",
    "        dados_csv.append(row)\n",
    "\n",
    "#Identificando tipo dos dados\n",
    "type(dados_csv)\n",
    "      \n",
    "#Imprimindo o segundo item do .json\n",
    "dados_csv[1]"
   ]
  },
  {
   "cell_type": "markdown",
   "metadata": {},
   "source": [
    "### Anotação"
   ]
  },
  {
   "cell_type": "code",
   "execution_count": 22,
   "metadata": {},
   "outputs": [
    {
     "data": {
      "text/plain": [
       "{'Nome do Item': 'Lápis de sobrancelha',\n",
       " 'Classificação do Produto': 'Roupas',\n",
       " 'Valor em Reais (R$)': '55.17',\n",
       " 'Quantidade em Estoque': '62',\n",
       " 'Nome da Loja': 'Filial 1',\n",
       " 'Data da Venda': '2023-04-13 18:58:06.794203'}"
      ]
     },
     "execution_count": 22,
     "metadata": {},
     "output_type": "execute_result"
    }
   ],
   "source": [
    "dados_csv[0]"
   ]
  },
  {
   "cell_type": "code",
   "execution_count": 23,
   "metadata": {},
   "outputs": [
    {
     "data": {
      "text/plain": [
       "{'Nome do Produto': 'Blush em pó',\n",
       " 'Categoria do Produto': 'Eletrodomésticos',\n",
       " 'Preço do Produto (R$)': 79.41,\n",
       " 'Quantidade em Estoque': 7,\n",
       " 'Filial': 'Filial 7'}"
      ]
     },
     "execution_count": 23,
     "metadata": {},
     "output_type": "execute_result"
    }
   ],
   "source": [
    "dados_json[0]"
   ]
  },
  {
   "cell_type": "code",
   "execution_count": 24,
   "metadata": {},
   "outputs": [
    {
     "data": {
      "text/plain": [
       "['Nome do Produto',\n",
       " 'Categoria do Produto',\n",
       " 'Preço do Produto (R$)',\n",
       " 'Quantidade em Estoque',\n",
       " 'Filial']"
      ]
     },
     "execution_count": 24,
     "metadata": {},
     "output_type": "execute_result"
    }
   ],
   "source": [
    "# Como os os nome das colunas são diferentes, precisamos igualar o schema entre as duas bases\n",
    "\n",
    "#passando nomes de coluna para lista\n",
    "nome_colunas_json = list(dados_json[0].keys())\n",
    "nome_colunas_json"
   ]
  },
  {
   "cell_type": "code",
   "execution_count": 8,
   "metadata": {},
   "outputs": [
    {
     "data": {
      "text/plain": [
       "5"
      ]
     },
     "execution_count": 8,
     "metadata": {},
     "output_type": "execute_result"
    }
   ],
   "source": [
    "#contando o número de colunas\n",
    "len(nome_colunas_json)"
   ]
  },
  {
   "cell_type": "code",
   "execution_count": 25,
   "metadata": {},
   "outputs": [
    {
     "data": {
      "text/plain": [
       "['Nome do Item',\n",
       " 'Classificação do Produto',\n",
       " 'Valor em Reais (R$)',\n",
       " 'Quantidade em Estoque',\n",
       " 'Nome da Loja',\n",
       " 'Data da Venda']"
      ]
     },
     "execution_count": 25,
     "metadata": {},
     "output_type": "execute_result"
    }
   ],
   "source": [
    "#fazendo o mesmo para o csv\n",
    "nome_colunas_csv = list(dados_csv[0].keys())\n",
    "nome_colunas_csv"
   ]
  },
  {
   "cell_type": "code",
   "execution_count": 26,
   "metadata": {},
   "outputs": [
    {
     "data": {
      "text/plain": [
       "6"
      ]
     },
     "execution_count": 26,
     "metadata": {},
     "output_type": "execute_result"
    }
   ],
   "source": [
    "#contando o número de colunas ( csv tem mais colunas que o json - que é o data da venda)\n",
    "len(nome_colunas_csv)\n",
    "\n",
    "#Quando não se souber qual o conteúdo de cada campo, deve se buscar a documentação da base ou consultar o time de BI\n",
    "\n",
    "#Qual nome faz mais sentido o do json ou do csv? Nesse caso tanto faz, o ideal é enviar as opções para o time de BI ou Negócio para definir o schema ideal.\n",
    "#Conversando com o time de analytics, foi definido que os nome de campo da empesa A foi escolhido."
   ]
  },
  {
   "cell_type": "code",
   "execution_count": 33,
   "metadata": {},
   "outputs": [
    {
     "data": {
      "text/plain": [
       "{'Nome do Item': 'Nome do Produto',\n",
       " 'Classificação do Produto': 'Categoria do Produto',\n",
       " 'Valor em Reais (R$)': 'Preço do Produto (R$)',\n",
       " 'Quantidade em Estoque': 'Quantidade em Estoque',\n",
       " 'Nome da Loja': 'Filial',\n",
       " 'Data da Venda': 'Data da Venda'}"
      ]
     },
     "execution_count": 33,
     "metadata": {},
     "output_type": "execute_result"
    }
   ],
   "source": [
    "#Como a estrutura de dados escolhida para cada base era uma lista de dicionários, será necessário passar item a item da lista para alterar o nome\n",
    "#de cada registro. Existem outras formas de fazer essas alterações, mas seguiremos com essa.\n",
    "\n",
    "\n",
    "key_mapping = {'Nome do Item':'Nome do Produto',\n",
    "               'Classificação do Produto':'Categoria do Produto',\n",
    "               'Valor em Reais (R$)':'Preço do Produto (R$)',\n",
    "               'Quantidade em Estoque':'Quantidade em Estoque',\n",
    "               'Nome da Loja':'Filial',\n",
    "               'Data da Venda':'Data da Venda'}\n",
    "\n",
    "key_mapping"
   ]
  },
  {
   "cell_type": "code",
   "execution_count": 34,
   "metadata": {},
   "outputs": [
    {
     "data": {
      "text/plain": [
       "{'Nome do Produto': 'Lápis de sobrancelha',\n",
       " 'Categoria do Produto': 'Roupas',\n",
       " 'Preço do Produto (R$)': '55.17',\n",
       " 'Quantidade em Estoque': '62',\n",
       " 'Filial': 'Filial 1',\n",
       " 'Data da Venda': '2023-04-13 18:58:06.794203'}"
      ]
     },
     "execution_count": 34,
     "metadata": {},
     "output_type": "execute_result"
    }
   ],
   "source": [
    "new_dados_csv = []\n",
    "\n",
    "#pega um dic antigo da lista dados_csv\n",
    "for old_dict in dados_csv:\n",
    "    #dicionario temporário\n",
    "    dict_temp = {}\n",
    "    #pega a chave antiga e o valor do dict antigo\n",
    "    for old_key, value in old_dict.items():\n",
    "        #Salvando novas chaves e atribuindo valor a elas\n",
    "        dict_temp[key_mapping[old_key]] = value\n",
    "    #adicionando dados corrigidos na lista\n",
    "    new_dados_csv.append(dict_temp)\n",
    "\n",
    "new_dados_csv[0]"
   ]
  },
  {
   "cell_type": "code",
   "execution_count": null,
   "metadata": {},
   "outputs": [],
   "source": []
  }
 ],
 "metadata": {
  "kernelspec": {
   "display_name": ".venv",
   "language": "python",
   "name": "python3"
  },
  "language_info": {
   "codemirror_mode": {
    "name": "ipython",
    "version": 3
   },
   "file_extension": ".py",
   "mimetype": "text/x-python",
   "name": "python",
   "nbconvert_exporter": "python",
   "pygments_lexer": "ipython3",
   "version": "3.10.12"
  }
 },
 "nbformat": 4,
 "nbformat_minor": 2
}
