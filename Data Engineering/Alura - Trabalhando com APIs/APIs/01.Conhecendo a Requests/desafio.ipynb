{
 "cells": [
  {
   "cell_type": "code",
   "execution_count": 1,
   "metadata": {},
   "outputs": [],
   "source": [
    "import requests"
   ]
  },
  {
   "cell_type": "markdown",
   "metadata": {},
   "source": [
    "https://api.github.com/users/kayckdelfino"
   ]
  },
  {
   "cell_type": "code",
   "execution_count": 2,
   "metadata": {},
   "outputs": [],
   "source": [
    "r = requests.get('https://api.github.com/users/kayckdelfino')"
   ]
  },
  {
   "cell_type": "code",
   "execution_count": 3,
   "metadata": {},
   "outputs": [
    {
     "data": {
      "text/plain": [
       "200"
      ]
     },
     "execution_count": 3,
     "metadata": {},
     "output_type": "execute_result"
    }
   ],
   "source": [
    "r.status_code"
   ]
  },
  {
   "cell_type": "code",
   "execution_count": 4,
   "metadata": {},
   "outputs": [
    {
     "data": {
      "text/plain": [
       "{'login': 'kayckdelfino',\n",
       " 'id': 102185780,\n",
       " 'node_id': 'U_kgDOBhc7NA',\n",
       " 'avatar_url': 'https://avatars.githubusercontent.com/u/102185780?v=4',\n",
       " 'gravatar_id': '',\n",
       " 'url': 'https://api.github.com/users/kayckdelfino',\n",
       " 'html_url': 'https://github.com/kayckdelfino',\n",
       " 'followers_url': 'https://api.github.com/users/kayckdelfino/followers',\n",
       " 'following_url': 'https://api.github.com/users/kayckdelfino/following{/other_user}',\n",
       " 'gists_url': 'https://api.github.com/users/kayckdelfino/gists{/gist_id}',\n",
       " 'starred_url': 'https://api.github.com/users/kayckdelfino/starred{/owner}{/repo}',\n",
       " 'subscriptions_url': 'https://api.github.com/users/kayckdelfino/subscriptions',\n",
       " 'organizations_url': 'https://api.github.com/users/kayckdelfino/orgs',\n",
       " 'repos_url': 'https://api.github.com/users/kayckdelfino/repos',\n",
       " 'events_url': 'https://api.github.com/users/kayckdelfino/events{/privacy}',\n",
       " 'received_events_url': 'https://api.github.com/users/kayckdelfino/received_events',\n",
       " 'type': 'User',\n",
       " 'site_admin': False,\n",
       " 'name': 'Kayck Delfino',\n",
       " 'company': None,\n",
       " 'blog': 'hackerrank.com/kayckdelfino',\n",
       " 'location': 'Brazil',\n",
       " 'email': None,\n",
       " 'hireable': None,\n",
       " 'bio': '👨\\u200d🎓 Bachelor of Computer Engineering | ☁️ Cloud Student | 💻 \\r\\nProgramming Enthusiast',\n",
       " 'twitter_username': None,\n",
       " 'public_repos': 2,\n",
       " 'public_gists': 0,\n",
       " 'followers': 4,\n",
       " 'following': 3,\n",
       " 'created_at': '2022-03-22T19:56:19Z',\n",
       " 'updated_at': '2023-10-27T23:35:36Z'}"
      ]
     },
     "execution_count": 4,
     "metadata": {},
     "output_type": "execute_result"
    }
   ],
   "source": [
    "r.json()"
   ]
  },
  {
   "cell_type": "code",
   "execution_count": 5,
   "metadata": {},
   "outputs": [
    {
     "data": {
      "text/plain": [
       "'https://api.github.com/users/kayckdelfino'"
      ]
     },
     "execution_count": 5,
     "metadata": {},
     "output_type": "execute_result"
    }
   ],
   "source": [
    "r.url"
   ]
  },
  {
   "cell_type": "code",
   "execution_count": 7,
   "metadata": {},
   "outputs": [
    {
     "name": "stdout",
     "output_type": "stream",
     "text": [
      "Nome: Kayck Delfino\n",
      "Nome de usuário: kayckdelfino\n",
      "Número de repositórios públicos: 2\n",
      "Data de criação da conta no GitHub: 2022-03-22T19:56:19Z\n"
     ]
    }
   ],
   "source": [
    "print(f\"Nome: {r.json().get('name')}\\nNome de usuário: {r.json().get('login')}\\nNúmero de repositórios públicos: {r.json().get('public_repos')}\\nData de criação da conta no GitHub: {r.json().get('created_at')}\")"
   ]
  }
 ],
 "metadata": {
  "kernelspec": {
   "display_name": "venv",
   "language": "python",
   "name": "python3"
  },
  "language_info": {
   "codemirror_mode": {
    "name": "ipython",
    "version": 3
   },
   "file_extension": ".py",
   "mimetype": "text/x-python",
   "name": "python",
   "nbconvert_exporter": "python",
   "pygments_lexer": "ipython3",
   "version": "3.10.12"
  }
 },
 "nbformat": 4,
 "nbformat_minor": 2
}
